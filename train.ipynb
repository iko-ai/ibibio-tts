{
  "nbformat": 4,
  "nbformat_minor": 0,
  "metadata": {
    "colab": {
      "provenance": [],
      "gpuType": "T4",
      "include_colab_link": true
    },
    "kernelspec": {
      "name": "python3",
      "display_name": "Python 3"
    },
    "language_info": {
      "name": "python"
    },
    "accelerator": "GPU"
  },
  "cells": [
    {
      "cell_type": "markdown",
      "metadata": {
        "id": "view-in-github",
        "colab_type": "text"
      },
      "source": [
        "<a href=\"https://colab.research.google.com/github/iko-ai/ibibio-tts/blob/master/train.ipynb\" target=\"_parent\"><img src=\"https://colab.research.google.com/assets/colab-badge.svg\" alt=\"Open In Colab\"/></a>"
      ]
    },
    {
      "cell_type": "code",
      "execution_count": 1,
      "metadata": {
        "colab": {
          "base_uri": "https://localhost:8080/"
        },
        "id": "519BayIw16w9",
        "outputId": "2a2178ac-1892-4320-81f7-999e73bd3376"
      },
      "outputs": [
        {
          "output_type": "stream",
          "name": "stdout",
          "text": [
            "Mounted at /content/drive\n"
          ]
        }
      ],
      "source": [
        "from google.colab import drive\n",
        "drive.mount('/content/drive')"
      ]
    },
    {
      "cell_type": "code",
      "source": [
        "import os\n",
        "from glob import glob\n",
        "import csv\n",
        "import random\n",
        "import pandas as pd"
      ],
      "metadata": {
        "id": "CV6hrveq2eyI"
      },
      "execution_count": 8,
      "outputs": []
    },
    {
      "cell_type": "code",
      "source": [
        "print(len(os.listdir(\"/content/drive/MyDrive/dataset/wav\")))"
      ],
      "metadata": {
        "colab": {
          "base_uri": "https://localhost:8080/"
        },
        "id": "diC0lprL5UcB",
        "outputId": "ebb9f90a-4765-42b5-eec6-a51244cd1264"
      },
      "execution_count": 3,
      "outputs": [
        {
          "output_type": "stream",
          "name": "stdout",
          "text": [
            "604\n"
          ]
        }
      ]
    },
    {
      "cell_type": "code",
      "source": [
        "# Paths\n",
        "input_excel_path = '/content/metadata.xlsx'\n",
        "output_csv_path = '/content/drive/MyDrive/dataset/metadata.csv'\n",
        "\n",
        "# Read the Excel file\n",
        "df = pd.read_excel(input_excel_path, engine='openpyxl')\n",
        "\n",
        "# Save the dataframe as a CSV file\n",
        "df.to_csv(output_csv_path, index=False, encoding='utf-8')\n",
        "\n",
        "print(\"Excel file has been successfully converted to CSV.\")\n"
      ],
      "metadata": {
        "colab": {
          "base_uri": "https://localhost:8080/"
        },
        "id": "M4Xl15zB4vSr",
        "outputId": "e67949ef-48a7-4ac7-e828-1d5e301d5c1d"
      },
      "execution_count": null,
      "outputs": [
        {
          "output_type": "stream",
          "name": "stdout",
          "text": [
            "Excel file has been successfully converted to CSV.\n"
          ]
        }
      ]
    },
    {
      "cell_type": "code",
      "source": [
        "# Paths\n",
        "input_csv_path = '/content/drive/MyDrive/dataset/metadata.csv'\n",
        "input_wavs_dir = '/content/drive/MyDrive/dataset/wav'\n",
        "output_dir = '/content/drive/MyDrive/dataset/wav_split'\n",
        "train_txt_path = os.path.join(output_dir, 'train.txt')\n",
        "val_txt_path = os.path.join(output_dir, 'val.txt')"
      ],
      "metadata": {
        "id": "a5kFSaG65nPW"
      },
      "execution_count": null,
      "outputs": []
    },
    {
      "cell_type": "code",
      "source": [
        "# Create the output directory if it doesn't exist\n",
        "os.makedirs(output_dir, exist_ok=True)\n",
        "\n",
        "# Read the input CSV\n",
        "with open(input_csv_path, 'r') as csv_file:\n",
        "    reader = csv.DictReader(csv_file)\n",
        "    data = list(reader)\n",
        "\n",
        "# Shuffle the data\n",
        "random.shuffle(data)\n",
        "\n",
        "# Split the data into 80% training and 20% validation\n",
        "split_index = int(0.8 * len(data))\n",
        "train_data = data[:split_index]\n",
        "val_data = data[split_index:]\n",
        "\n",
        "# Function to write data to a text file\n",
        "def write_data(file_path, data):\n",
        "    with open(file_path, 'w') as file:\n",
        "        for row in data:\n",
        "            filename = row['Filepath']\n",
        "            transcription = row['Transcription']\n",
        "            file.write(f\"wavs/{filename}|{transcription}\\n\")\n"
      ],
      "metadata": {
        "id": "SrqJKEJs2NA9"
      },
      "execution_count": null,
      "outputs": []
    },
    {
      "cell_type": "code",
      "source": [
        "# Write the training and validation data to their respective files\n",
        "write_data(train_txt_path, train_data)\n",
        "write_data(val_txt_path, val_data)\n",
        "\n",
        "print(\"Dataset has been successfully split and saved.\")"
      ],
      "metadata": {
        "colab": {
          "base_uri": "https://localhost:8080/"
        },
        "id": "AvpNLDAn5rSy",
        "outputId": "28366018-2073-423b-ddff-2f9528177627"
      },
      "execution_count": null,
      "outputs": [
        {
          "output_type": "stream",
          "name": "stdout",
          "text": [
            "Dataset has been successfully split and saved.\n"
          ]
        }
      ]
    },
    {
      "cell_type": "code",
      "source": [
        "!git clone https://github.com/iko-ai/ibibio-tts.git"
      ],
      "metadata": {
        "colab": {
          "base_uri": "https://localhost:8080/"
        },
        "id": "FuIFNM9D5tC5",
        "outputId": "0a16fdcc-6180-4856-8b8e-726f5d6cc349"
      },
      "execution_count": 4,
      "outputs": [
        {
          "output_type": "stream",
          "name": "stdout",
          "text": [
            "Cloning into 'ibibio-tts'...\n",
            "remote: Enumerating objects: 16650, done.\u001b[K\n",
            "remote: Counting objects: 100% (419/419), done.\u001b[K\n",
            "remote: Compressing objects: 100% (212/212), done.\u001b[K\n",
            "remote: Total 16650 (delta 232), reused 358 (delta 206), pack-reused 16231\u001b[K\n",
            "Receiving objects: 100% (16650/16650), 12.16 MiB | 23.58 MiB/s, done.\n",
            "Resolving deltas: 100% (13345/13345), done.\n"
          ]
        }
      ]
    },
    {
      "cell_type": "code",
      "source": [
        "%cd ../"
      ],
      "metadata": {
        "id": "Euf_Uq4yJ7C-",
        "outputId": "a87e65dd-71d3-4286-c6a0-fbb0677e9dd5",
        "colab": {
          "base_uri": "https://localhost:8080/"
        }
      },
      "execution_count": 7,
      "outputs": [
        {
          "output_type": "stream",
          "name": "stdout",
          "text": [
            "/content\n"
          ]
        }
      ]
    },
    {
      "cell_type": "code",
      "source": [
        "#%cd ibibio-texttospeech/codes\n",
        "#%cd codes\n",
        "%cd /content/ibibio-tts/codes"
      ],
      "metadata": {
        "colab": {
          "base_uri": "https://localhost:8080/"
        },
        "id": "rg4QnjEu6Ngz",
        "outputId": "fd86bb30-f7cd-41b9-df0f-50f0614da306"
      },
      "execution_count": 8,
      "outputs": [
        {
          "output_type": "stream",
          "name": "stdout",
          "text": [
            "/content/ibibio-tts/codes\n"
          ]
        }
      ]
    },
    {
      "cell_type": "code",
      "source": [
        "!pip install -r requirements.laxed.txt"
      ],
      "metadata": {
        "id": "QwsDLpEm6Swl"
      },
      "execution_count": null,
      "outputs": []
    },
    {
      "cell_type": "code",
      "source": [],
      "metadata": {
        "id": "gpmugun9LkEd",
        "outputId": "899469bd-7703-432f-e91b-5993255873ea",
        "colab": {
          "base_uri": "https://localhost:8080/"
        }
      },
      "execution_count": 5,
      "outputs": [
        {
          "output_type": "stream",
          "name": "stdout",
          "text": [
            "experiments/dvae.pth: No such file or directory\n",
            "experiments/autoregressive.pth: No such file or directory\n"
          ]
        }
      ]
    },
    {
      "cell_type": "code",
      "source": [
        "!wget https://huggingface.co/Gatozu35/tortoise-tts/resolve/main/dvae.pth -O /content/ibibio-tts/experiments/dvae.pth\n",
        "!wget https://huggingface.co/jbetker/tortoise-tts-v2/resolve/main/.models/autoregressive.pth -O /content/ibibio-tts/experiments/autoregressive.pth"
      ],
      "metadata": {
        "id": "qixhVDpCPilC",
        "outputId": "5161cad1-28de-4caa-8e8d-bd134aff7851",
        "colab": {
          "base_uri": "https://localhost:8080/"
        }
      },
      "execution_count": 4,
      "outputs": [
        {
          "output_type": "stream",
          "name": "stdout",
          "text": [
            "--2024-05-30 06:25:34--  https://huggingface.co/Gatozu35/tortoise-tts/resolve/main/dvae.pth\n",
            "Resolving huggingface.co (huggingface.co)... 18.172.134.124, 18.172.134.24, 18.172.134.88, ...\n",
            "Connecting to huggingface.co (huggingface.co)|18.172.134.124|:443... connected.\n",
            "HTTP request sent, awaiting response... 302 Found\n",
            "Location: https://cdn-lfs.huggingface.co/repos/9f/83/9f8300e5ccd418d283e72c07d1851f269dbd2ca7bae49cee21285965d9bebe14/a990825371506c16bcf0e8167bf24ccf82f65bb6a1dbcbfcf058d76f9b197e35?response-content-disposition=attachment%3B+filename*%3DUTF-8%27%27dvae.pth%3B+filename%3D%22dvae.pth%22%3B&Expires=1717309534&Policy=eyJTdGF0ZW1lbnQiOlt7IkNvbmRpdGlvbiI6eyJEYXRlTGVzc1RoYW4iOnsiQVdTOkVwb2NoVGltZSI6MTcxNzMwOTUzNH19LCJSZXNvdXJjZSI6Imh0dHBzOi8vY2RuLWxmcy5odWdnaW5nZmFjZS5jby9yZXBvcy85Zi84My85ZjgzMDBlNWNjZDQxOGQyODNlNzJjMDdkMTg1MWYyNjlkYmQyY2E3YmFlNDljZWUyMTI4NTk2NWQ5YmViZTE0L2E5OTA4MjUzNzE1MDZjMTZiY2YwZTgxNjdiZjI0Y2NmODJmNjViYjZhMWRiY2JmY2YwNThkNzZmOWIxOTdlMzU%7EcmVzcG9uc2UtY29udGVudC1kaXNwb3NpdGlvbj0qIn1dfQ__&Signature=C5Ldu55bkNQ7OFsIDXdTb-WaVhADJlitqcHces03oABeEF%7EOy4hO5EnHfP7J5PynxYbP82JOuv3XN0a0cc3ecZJxSwYqYTslhdymDHLZ3ysfXyLMXzSm7Yqxvfx8x7KnR-Uv0DWZ9z1SuA%7EntkuUy3Rjo7LaQbzACIRZQoe6HJ9ZTJr%7EIEaNUFu8Uax6o6T8XV9mIeILxDYM2wGs2sEe2taJ81POgQk8837p8-DJihyCl5hTxXvBZ4A5pQReMQ0oEpB-t-w%7Eo7ShrO3kRPIHBPlqCrL5B3ioWMrTpBqVn0iuonckNZun-uaqV4y0iM7pOYchwlS8LkfDcsDMDO4trQ__&Key-Pair-Id=KVTP0A1DKRTAX [following]\n",
            "--2024-05-30 06:25:35--  https://cdn-lfs.huggingface.co/repos/9f/83/9f8300e5ccd418d283e72c07d1851f269dbd2ca7bae49cee21285965d9bebe14/a990825371506c16bcf0e8167bf24ccf82f65bb6a1dbcbfcf058d76f9b197e35?response-content-disposition=attachment%3B+filename*%3DUTF-8%27%27dvae.pth%3B+filename%3D%22dvae.pth%22%3B&Expires=1717309534&Policy=eyJTdGF0ZW1lbnQiOlt7IkNvbmRpdGlvbiI6eyJEYXRlTGVzc1RoYW4iOnsiQVdTOkVwb2NoVGltZSI6MTcxNzMwOTUzNH19LCJSZXNvdXJjZSI6Imh0dHBzOi8vY2RuLWxmcy5odWdnaW5nZmFjZS5jby9yZXBvcy85Zi84My85ZjgzMDBlNWNjZDQxOGQyODNlNzJjMDdkMTg1MWYyNjlkYmQyY2E3YmFlNDljZWUyMTI4NTk2NWQ5YmViZTE0L2E5OTA4MjUzNzE1MDZjMTZiY2YwZTgxNjdiZjI0Y2NmODJmNjViYjZhMWRiY2JmY2YwNThkNzZmOWIxOTdlMzU%7EcmVzcG9uc2UtY29udGVudC1kaXNwb3NpdGlvbj0qIn1dfQ__&Signature=C5Ldu55bkNQ7OFsIDXdTb-WaVhADJlitqcHces03oABeEF%7EOy4hO5EnHfP7J5PynxYbP82JOuv3XN0a0cc3ecZJxSwYqYTslhdymDHLZ3ysfXyLMXzSm7Yqxvfx8x7KnR-Uv0DWZ9z1SuA%7EntkuUy3Rjo7LaQbzACIRZQoe6HJ9ZTJr%7EIEaNUFu8Uax6o6T8XV9mIeILxDYM2wGs2sEe2taJ81POgQk8837p8-DJihyCl5hTxXvBZ4A5pQReMQ0oEpB-t-w%7Eo7ShrO3kRPIHBPlqCrL5B3ioWMrTpBqVn0iuonckNZun-uaqV4y0iM7pOYchwlS8LkfDcsDMDO4trQ__&Key-Pair-Id=KVTP0A1DKRTAX\n",
            "Resolving cdn-lfs.huggingface.co (cdn-lfs.huggingface.co)... 18.154.185.27, 18.154.185.94, 18.154.185.64, ...\n",
            "Connecting to cdn-lfs.huggingface.co (cdn-lfs.huggingface.co)|18.154.185.27|:443... connected.\n",
            "HTTP request sent, awaiting response... 200 OK\n",
            "Length: 239873286 (229M) [binary/octet-stream]\n",
            "Saving to: ‘/content/ibibio-tts/experiments/dvae.pth’\n",
            "\n",
            "/content/ibibio-tts 100%[===================>] 228.76M  75.5MB/s    in 3.0s    \n",
            "\n",
            "2024-05-30 06:25:38 (75.5 MB/s) - ‘/content/ibibio-tts/experiments/dvae.pth’ saved [239873286/239873286]\n",
            "\n",
            "--2024-05-30 06:25:38--  https://huggingface.co/jbetker/tortoise-tts-v2/resolve/main/.models/autoregressive.pth\n",
            "Resolving huggingface.co (huggingface.co)... 18.172.134.124, 18.172.134.24, 18.172.134.4, ...\n",
            "Connecting to huggingface.co (huggingface.co)|18.172.134.124|:443... connected.\n",
            "HTTP request sent, awaiting response... 302 Found\n",
            "Location: https://cdn-lfs.huggingface.co/repos/57/08/5708d35b6a2408439b3511ccdaa992754f65f8e182278ecb9f654fc46a46f9fb/9c6651b9996df6cef6a1fc459738ae207ab60f902ec49b4d0623ca8ab6110d51?response-content-disposition=attachment%3B+filename*%3DUTF-8%27%27autoregressive.pth%3B+filename%3D%22autoregressive.pth%22%3B&Expires=1717309538&Policy=eyJTdGF0ZW1lbnQiOlt7IkNvbmRpdGlvbiI6eyJEYXRlTGVzc1RoYW4iOnsiQVdTOkVwb2NoVGltZSI6MTcxNzMwOTUzOH19LCJSZXNvdXJjZSI6Imh0dHBzOi8vY2RuLWxmcy5odWdnaW5nZmFjZS5jby9yZXBvcy81Ny8wOC81NzA4ZDM1YjZhMjQwODQzOWIzNTExY2NkYWE5OTI3NTRmNjVmOGUxODIyNzhlY2I5ZjY1NGZjNDZhNDZmOWZiLzljNjY1MWI5OTk2ZGY2Y2VmNmExZmM0NTk3MzhhZTIwN2FiNjBmOTAyZWM0OWI0ZDA2MjNjYThhYjYxMTBkNTE%7EcmVzcG9uc2UtY29udGVudC1kaXNwb3NpdGlvbj0qIn1dfQ__&Signature=gil5hdpgdaaZX3eLXcXaENwhw2EtXpWAO6TAfsxrRcrayKsgEoCfUyt7gZm963AAF1V7-Gm-PRhchp2vHi788%7EBnui9KLrgbnXEJj1ewXKS8npqYwY-I3A7foIeBUElZY7mhL5lZb9x-xJAzL7AG7tORpe3h8go8hJblIxKtWHXUj%7E2khUHvxFltwjFg65XubUFZ7St6pSHN5QOlxfiawYT9tqTb5QLYuH0ZQgu5r-1tQJrZjyiebcREVPbkQKKD4l2VXjQQQps2VmF58a5MbxRbXdCNhmG15GT7-j9CuFcZzGdzHMdkMQbhuECb5c4CxX8qrCNbmW%7E6ivxZZdcz1Q__&Key-Pair-Id=KVTP0A1DKRTAX [following]\n",
            "--2024-05-30 06:25:38--  https://cdn-lfs.huggingface.co/repos/57/08/5708d35b6a2408439b3511ccdaa992754f65f8e182278ecb9f654fc46a46f9fb/9c6651b9996df6cef6a1fc459738ae207ab60f902ec49b4d0623ca8ab6110d51?response-content-disposition=attachment%3B+filename*%3DUTF-8%27%27autoregressive.pth%3B+filename%3D%22autoregressive.pth%22%3B&Expires=1717309538&Policy=eyJTdGF0ZW1lbnQiOlt7IkNvbmRpdGlvbiI6eyJEYXRlTGVzc1RoYW4iOnsiQVdTOkVwb2NoVGltZSI6MTcxNzMwOTUzOH19LCJSZXNvdXJjZSI6Imh0dHBzOi8vY2RuLWxmcy5odWdnaW5nZmFjZS5jby9yZXBvcy81Ny8wOC81NzA4ZDM1YjZhMjQwODQzOWIzNTExY2NkYWE5OTI3NTRmNjVmOGUxODIyNzhlY2I5ZjY1NGZjNDZhNDZmOWZiLzljNjY1MWI5OTk2ZGY2Y2VmNmExZmM0NTk3MzhhZTIwN2FiNjBmOTAyZWM0OWI0ZDA2MjNjYThhYjYxMTBkNTE%7EcmVzcG9uc2UtY29udGVudC1kaXNwb3NpdGlvbj0qIn1dfQ__&Signature=gil5hdpgdaaZX3eLXcXaENwhw2EtXpWAO6TAfsxrRcrayKsgEoCfUyt7gZm963AAF1V7-Gm-PRhchp2vHi788%7EBnui9KLrgbnXEJj1ewXKS8npqYwY-I3A7foIeBUElZY7mhL5lZb9x-xJAzL7AG7tORpe3h8go8hJblIxKtWHXUj%7E2khUHvxFltwjFg65XubUFZ7St6pSHN5QOlxfiawYT9tqTb5QLYuH0ZQgu5r-1tQJrZjyiebcREVPbkQKKD4l2VXjQQQps2VmF58a5MbxRbXdCNhmG15GT7-j9CuFcZzGdzHMdkMQbhuECb5c4CxX8qrCNbmW%7E6ivxZZdcz1Q__&Key-Pair-Id=KVTP0A1DKRTAX\n",
            "Resolving cdn-lfs.huggingface.co (cdn-lfs.huggingface.co)... 18.154.185.27, 18.154.185.94, 18.154.185.64, ...\n",
            "Connecting to cdn-lfs.huggingface.co (cdn-lfs.huggingface.co)|18.154.185.27|:443... connected.\n",
            "HTTP request sent, awaiting response... 200 OK\n",
            "Length: 1716988501 (1.6G) [application/zip]\n",
            "Saving to: ‘/content/ibibio-tts/experiments/autoregressive.pth’\n",
            "\n",
            "/content/ibibio-tts 100%[===================>]   1.60G   212MB/s    in 13s     \n",
            "\n",
            "2024-05-30 06:25:51 (127 MB/s) - ‘/content/ibibio-tts/experiments/autoregressive.pth’ saved [1716988501/1716988501]\n",
            "\n"
          ]
        }
      ]
    },
    {
      "cell_type": "markdown",
      "source": [
        "# Make sure the waveform audio has a sampling rate of 22.05kHz\n",
        "Install librosa using the following command (automatically installs soundfile as well):\n",
        "pip install librosa"
      ],
      "metadata": {
        "id": "ui5jUdh7ST4K"
      }
    },
    {
      "cell_type": "code",
      "source": [
        "import librosa\n",
        "import soundfile as sf\n",
        "\n",
        "def resample_wav_file(input_file, target_sampling_rate=22050):\n",
        "    # Load audio file\n",
        "    audio, sampling_rate = librosa.load(input_file, sr=None)\n",
        "\n",
        "    # Check if the sampling rate matches the target\n",
        "    if sampling_rate != target_sampling_rate:\n",
        "\n",
        "        # Resample audio to the target sampling rate\n",
        "        audio_resampled = librosa.resample(audio, orig_sr=sampling_rate, target_sr=target_sampling_rate)\n",
        "\n",
        "        # Overwrite the input file with the resampled audio\n",
        "        sf.write(input_file, audio_resampled, target_sampling_rate)"
      ],
      "metadata": {
        "id": "ja7Stce2QfY6"
      },
      "execution_count": 6,
      "outputs": []
    },
    {
      "cell_type": "code",
      "source": [
        "# Resample all audio samples to 22.05kHz\n",
        "dataset_path = '/content/drive/MyDrive/dataset/wav'\n",
        "for wav_file in glob(dataset_path + \"*.wav\"):\n",
        "    resample_wav_file(wav_file)"
      ],
      "metadata": {
        "id": "m5XZqSloQf9o"
      },
      "execution_count": 10,
      "outputs": []
    },
    {
      "cell_type": "markdown",
      "source": [
        "# Fine-Tune THE AUTOREGRESSIVE MODEL"
      ],
      "metadata": {
        "id": "CpAZSlxqTRUz"
      }
    },
    {
      "cell_type": "code",
      "source": [
        "!python3 /content/ibibio-tts/codes/train.py -opt /content/ibibio-tts/experiments/custom_language_gpt.yml"
      ],
      "metadata": {
        "colab": {
          "base_uri": "https://localhost:8080/"
        },
        "id": "tQtEm55VQgLK",
        "outputId": "4bb340f2-edd6-4245-df89-f63bef525cfd"
      },
      "execution_count": null,
      "outputs": [
        {
          "output_type": "stream",
          "name": "stdout",
          "text": [
            "Disabled distributed training.\n",
            "24-05-30 06:36:04.527 - INFO:   name: custom_language_gpt\n",
            "  model: extensibletrainer\n",
            "  scale: 1\n",
            "  gpu_ids: [0]\n",
            "  start_step: 0\n",
            "  checkpointing_enabled: True\n",
            "  fp16: False\n",
            "  use_8bit: True\n",
            "  wandb: False\n",
            "  use_tb_logger: True\n",
            "  datasets:[\n",
            "    train:[\n",
            "      name: train_dataset\n",
            "      n_workers: 8\n",
            "      batch_size: 128\n",
            "      mode: paired_voice_audio\n",
            "      path: /content/drive/MyDrive/dataset/wav_split/train.txt\n",
            "      fetcher_mode: ['lj']\n",
            "      phase: train\n",
            "      max_wav_length: 255995\n",
            "      max_text_length: 200\n",
            "      sample_rate: 22050\n",
            "      load_conditioning: True\n",
            "      num_conditioning_candidates: 2\n",
            "      conditioning_length: 44000\n",
            "      use_bpe_tokenizer: True\n",
            "      load_aligned_codes: False\n",
            "      tokenizer_vocab: /content/drive/MyDrive/dataset/tokenizer.json\n",
            "      data_type: img\n",
            "    ]\n",
            "    val:[\n",
            "      name: val_dataset\n",
            "      n_workers: 1\n",
            "      batch_size: 64\n",
            "      mode: paired_voice_audio\n",
            "      path: /content/drive/MyDrive/dataset/wav_split/val.txt\n",
            "      fetcher_mode: ['lj']\n",
            "      phase: val\n",
            "      max_wav_length: 255995\n",
            "      max_text_length: 200\n",
            "      sample_rate: 22050\n",
            "      load_conditioning: True\n",
            "      num_conditioning_candidates: 2\n",
            "      conditioning_length: 44000\n",
            "      use_bpe_tokenizer: True\n",
            "      load_aligned_codes: False\n",
            "      tokenizer_vocab: /content/drive/MyDrive/dataset/tokenizer.json\n",
            "      data_type: img\n",
            "    ]\n",
            "  ]\n",
            "  steps:[\n",
            "    gpt_train:[\n",
            "      training: gpt\n",
            "      loss_log_buffer: 500\n",
            "      optimizer: adamw\n",
            "      optimizer_params:[\n",
            "        lr: 1e-05\n",
            "        triton: False\n",
            "        weight_decay: 0.01\n",
            "        beta1: 0.9\n",
            "        beta2: 0.96\n",
            "      ]\n",
            "      clip_grad_eps: 4\n",
            "      injectors:[\n",
            "        paired_to_mel:[\n",
            "          type: torch_mel_spectrogram\n",
            "          mel_norm_file: ./experiments/clips_mel_norms.pth\n",
            "          in: wav\n",
            "          out: paired_mel\n",
            "        ]\n",
            "        paired_cond_to_mel:[\n",
            "          type: for_each\n",
            "          subtype: torch_mel_spectrogram\n",
            "          mel_norm_file: ./experiments/clips_mel_norms.pth\n",
            "          in: conditioning\n",
            "          out: paired_conditioning_mel\n",
            "        ]\n",
            "        to_codes:[\n",
            "          type: discrete_token\n",
            "          in: paired_mel\n",
            "          out: paired_mel_codes\n",
            "          dvae_config: ./experiments/train_diffusion_vocoder_22k_level.yml\n",
            "        ]\n",
            "        paired_fwd_text:[\n",
            "          type: generator\n",
            "          generator: gpt\n",
            "          in: ['paired_conditioning_mel', 'padded_text', 'text_lengths', 'paired_mel_codes', 'wav_lengths']\n",
            "          out: ['loss_text_ce', 'loss_mel_ce', 'logits']\n",
            "        ]\n",
            "      ]\n",
            "      losses:[\n",
            "        text_ce:[\n",
            "          type: direct\n",
            "          weight: 0.01\n",
            "          key: loss_text_ce\n",
            "        ]\n",
            "        mel_ce:[\n",
            "          type: direct\n",
            "          weight: 1\n",
            "          key: loss_mel_ce\n",
            "        ]\n",
            "      ]\n",
            "    ]\n",
            "  ]\n",
            "  networks:[\n",
            "    gpt:[\n",
            "      type: generator\n",
            "      which_model_G: unified_voice2\n",
            "      kwargs:[\n",
            "        layers: 30\n",
            "        model_dim: 1024\n",
            "        heads: 16\n",
            "        max_text_tokens: 402\n",
            "        max_mel_tokens: 604\n",
            "        max_conditioning_inputs: 2\n",
            "        mel_length_compression: 1024\n",
            "        number_text_tokens: 256\n",
            "        number_mel_codes: 8194\n",
            "        start_mel_token: 8192\n",
            "        stop_mel_token: 8193\n",
            "        start_text_token: 255\n",
            "        train_solo_embeddings: False\n",
            "        use_mel_codes_as_input: True\n",
            "        checkpointing: True\n",
            "        tortoise_compat: True\n",
            "      ]\n",
            "    ]\n",
            "  ]\n",
            "  path:[\n",
            "    pretrain_model_gpt: ./experiments/autoregressive.pth\n",
            "    strict_load: True\n",
            "    root: /content/ibibio-tts\n",
            "    experiments_root: /content/ibibio-tts/experiments/custom_language_gpt\n",
            "    models: /content/ibibio-tts/experiments/custom_language_gpt/models\n",
            "    training_state: /content/ibibio-tts/experiments/custom_language_gpt/training_state\n",
            "    log: /content/ibibio-tts/experiments/custom_language_gpt\n",
            "    val_images: /content/ibibio-tts/experiments/custom_language_gpt/val_images\n",
            "  ]\n",
            "  train:[\n",
            "    niter: 500\n",
            "    warmup_iter: -1\n",
            "    mega_batch_factor: 4\n",
            "    val_freq: 500\n",
            "    default_lr_scheme: MultiStepLR\n",
            "    gen_lr_steps: [500, 1000, 1400, 1800]\n",
            "    lr_gamma: 0.5\n",
            "    ema_enabled: False\n",
            "  ]\n",
            "  eval:[\n",
            "    pure: True\n",
            "  ]\n",
            "  logger:[\n",
            "    print_freq: 100\n",
            "    save_checkpoint_freq: 500\n",
            "    visuals: ['gen', 'mel']\n",
            "    visual_debug_rate: 500\n",
            "    is_mel_spectrogram: True\n",
            "    disable_state_saving: True\n",
            "  ]\n",
            "  upgrades:[\n",
            "    number_of_checkpoints_to_save: 0\n",
            "    number_of_states_to_save: 0\n",
            "  ]\n",
            "  is_train: True\n",
            "  dist: False\n",
            "\n",
            "2024-05-30 06:36:06.564326: E external/local_xla/xla/stream_executor/cuda/cuda_dnn.cc:9261] Unable to register cuDNN factory: Attempting to register factory for plugin cuDNN when one has already been registered\n",
            "2024-05-30 06:36:06.564382: E external/local_xla/xla/stream_executor/cuda/cuda_fft.cc:607] Unable to register cuFFT factory: Attempting to register factory for plugin cuFFT when one has already been registered\n",
            "2024-05-30 06:36:06.689650: E external/local_xla/xla/stream_executor/cuda/cuda_blas.cc:1515] Unable to register cuBLAS factory: Attempting to register factory for plugin cuBLAS when one has already been registered\n",
            "2024-05-30 06:36:08.853054: W tensorflow/compiler/tf2tensorrt/utils/py_utils.cc:38] TF-TRT Warning: Could not find TensorRT\n",
            "24-05-30 06:36:10.034 - INFO: Random seed: 1231\n"
          ]
        }
      ]
    },
    {
      "cell_type": "code",
      "source": [
        "print(os.getcwd())"
      ],
      "metadata": {
        "colab": {
          "base_uri": "https://localhost:8080/"
        },
        "id": "mEmI8DPrTiNb",
        "outputId": "27ebe8df-6989-432d-a4b0-e8f230d79958"
      },
      "execution_count": 14,
      "outputs": [
        {
          "output_type": "stream",
          "name": "stdout",
          "text": [
            "/content\n"
          ]
        }
      ]
    },
    {
      "cell_type": "code",
      "source": [],
      "metadata": {
        "id": "SjPOt6ZGUKXN"
      },
      "execution_count": null,
      "outputs": []
    }
  ]
}