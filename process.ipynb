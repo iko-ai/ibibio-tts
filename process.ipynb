{
  "nbformat": 4,
  "nbformat_minor": 0,
  "metadata": {
    "colab": {
      "provenance": [],
      "gpuType": "A100",
      "include_colab_link": true
    },
    "kernelspec": {
      "name": "python3",
      "display_name": "Python 3"
    },
    "language_info": {
      "name": "python"
    }
  },
  "cells": [
    {
      "cell_type": "code",
      "source": [
        "from google.colab import drive\n",
        "drive.mount('/content/drive')"
      ],
      "metadata": {
        "colab": {
          "base_uri": "https://localhost:8080/"
        },
        "id": "pcpgRxV8n0Z0",
        "outputId": "9e09935c-7def-4205-e61a-1bca4c649089"
      },
      "execution_count": 1,
      "outputs": [
        {
          "output_type": "stream",
          "name": "stdout",
          "text": [
            "Mounted at /content/drive\n"
          ]
        }
      ]
    },
    {
      "cell_type": "code",
      "source": [
        "!pip install pydub"
      ],
      "metadata": {
        "id": "0vBqLiDt_uVO",
        "outputId": "d2872a3b-097e-4780-bc5c-a972d60b3bc5",
        "colab": {
          "base_uri": "https://localhost:8080/"
        }
      },
      "execution_count": 2,
      "outputs": [
        {
          "output_type": "stream",
          "name": "stdout",
          "text": [
            "Collecting pydub\n",
            "  Downloading pydub-0.25.1-py2.py3-none-any.whl (32 kB)\n",
            "Installing collected packages: pydub\n",
            "Successfully installed pydub-0.25.1\n"
          ]
        }
      ]
    },
    {
      "cell_type": "code",
      "source": [
        "from pydub import AudioSegment\n",
        "import os\n",
        "import pandas as pd"
      ],
      "metadata": {
        "id": "IijXqY8-IuNu"
      },
      "execution_count": 3,
      "outputs": []
    },
    {
      "cell_type": "code",
      "source": [
        "def convert_aac_folder_to_wav(input_folder, output_folder):\n",
        "    # Ensure the output folder exists\n",
        "    if not os.path.exists(output_folder):\n",
        "        os.makedirs(output_folder)\n",
        "\n",
        "    # Iterate through all files in the input folder\n",
        "    for filename in os.listdir(input_folder):\n",
        "        if filename.endswith(\".aac\"):\n",
        "            input_path = os.path.join(input_folder, filename)\n",
        "            output_path = os.path.join(output_folder, os.path.splitext(filename)[0] + \".wav\")\n",
        "\n",
        "            # Load the .aac file\n",
        "            audio = AudioSegment.from_file(input_path, format=\"aac\")\n",
        "            # Export as .wav\n",
        "            audio.export(output_path, format=\"wav\")\n",
        "            print(f\"Converted {input_path} to {output_path}\")\n",
        "\n"
      ],
      "metadata": {
        "id": "UpFq07N_-jyM"
      },
      "execution_count": 8,
      "outputs": []
    },
    {
      "cell_type": "code",
      "source": [],
      "metadata": {
        "id": "Wck6XNZ-BwXi"
      },
      "execution_count": null,
      "outputs": []
    },
    {
      "cell_type": "code",
      "execution_count": null,
      "metadata": {
        "id": "Y-b6g6AtmXz0"
      },
      "outputs": [],
      "source": [
        "# Example usage\n",
        "input_folder = \"/content/drive/MyDrive/dataset/audio\"\n",
        "output_folder = \"/content/drive/MyDrive/dataset/wav\"\n",
        "convert_aac_folder_to_wav(input_folder, output_folder)\n"
      ]
    },
    {
      "cell_type": "code",
      "source": [
        "print(len(os.listdir(\"/content/drive/MyDrive/dataset/wav\")))"
      ],
      "metadata": {
        "id": "0RqtlkJ0E9_D",
        "outputId": "1e1a3c67-c097-4ad3-f517-6cd17865c457",
        "colab": {
          "base_uri": "https://localhost:8080/"
        }
      },
      "execution_count": 10,
      "outputs": [
        {
          "output_type": "stream",
          "name": "stdout",
          "text": [
            "355\n"
          ]
        }
      ]
    },
    {
      "cell_type": "code",
      "source": [
        "def create_csv_from_wav_folder(folder_path, csv_path):\n",
        "    wav_files = []\n",
        "\n",
        "    # Iterate through all files in the folder\n",
        "    for filename in os.listdir(folder_path):\n",
        "        if filename.endswith(\".wav\"):\n",
        "            file_path = os.path.join(folder_path, filename)\n",
        "            wav_files.append({\"Filename\": filename, \"Filepath\": file_path})\n",
        "\n",
        "    # Create a DataFrame\n",
        "    df = pd.DataFrame(wav_files)\n",
        "\n",
        "    # Save DataFrame to CSV\n",
        "    df.to_csv(csv_path, index=False)\n",
        "    print(f\"CSV file created at {csv_path}\")\n"
      ],
      "metadata": {
        "id": "SjH8gO2hm41M"
      },
      "execution_count": 12,
      "outputs": []
    },
    {
      "cell_type": "code",
      "source": [
        "# Example usage\n",
        "folder_path = \"/content/drive/MyDrive/dataset/wav\"\n",
        "csv_path = \"/content/drive/MyDrive/dataset/metadata.csv\"\n",
        "create_csv_from_wav_folder(folder_path, csv_path)"
      ],
      "metadata": {
        "id": "FEC3FsFHJoTT",
        "outputId": "7f9a023b-af61-4fed-b64f-0cdb44e8bc23",
        "colab": {
          "base_uri": "https://localhost:8080/"
        }
      },
      "execution_count": 13,
      "outputs": [
        {
          "output_type": "stream",
          "name": "stdout",
          "text": [
            "CSV file created at /content/drive/MyDrive/dataset/metadata.csv\n"
          ]
        }
      ]
    },
    {
      "cell_type": "code",
      "source": [
        "df = pd.read_csv(\"/content/drive/MyDrive/dataset/metadata.csv\")\n",
        "len(df)"
      ],
      "metadata": {
        "id": "2WBJ9rqIJ6nt",
        "outputId": "3bc8d900-037a-4def-9cb7-c6d5bf0914fd",
        "colab": {
          "base_uri": "https://localhost:8080/"
        }
      },
      "execution_count": 16,
      "outputs": [
        {
          "output_type": "execute_result",
          "data": {
            "text/plain": [
              "355"
            ]
          },
          "metadata": {},
          "execution_count": 16
        }
      ]
    },
    {
      "cell_type": "code",
      "source": [],
      "metadata": {
        "id": "oa0K5WIfKL9l"
      },
      "execution_count": null,
      "outputs": []
    }
  ]
}
